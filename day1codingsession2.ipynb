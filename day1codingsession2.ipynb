{
 "cells": [
  {
   "cell_type": "code",
   "execution_count": 1,
   "id": "55761c26",
   "metadata": {},
   "outputs": [
    {
     "name": "stdout",
     "output_type": "stream",
     "text": [
      "what is your name?\n",
      "theju\n"
     ]
    }
   ],
   "source": [
    "name=input(\"what is your name?\\n\")"
   ]
  },
  {
   "cell_type": "code",
   "execution_count": 2,
   "id": "f75c6f01",
   "metadata": {},
   "outputs": [
    {
     "name": "stdout",
     "output_type": "stream",
     "text": [
      "what is your name?\n",
      "theju\n",
      "what is your age?\n",
      "20\n"
     ]
    }
   ],
   "source": [
    "name=input(\"what is your name?\\n\")\n",
    "age= input(\"what is your age?\\n\")\n"
   ]
  },
  {
   "cell_type": "code",
   "execution_count": null,
   "id": "2a53641a",
   "metadata": {},
   "outputs": [],
   "source": []
  },
  {
   "cell_type": "code",
   "execution_count": 4,
   "id": "2165aca2",
   "metadata": {},
   "outputs": [
    {
     "name": "stdout",
     "output_type": "stream",
     "text": [
      "what is your name?\n",
      "theju\n",
      "hello myself rhea, how are youtheju?\n",
      "i am doing greattheju!\n",
      "what is your age?\n",
      "20\n",
      " oh okay we are of same age good to know\n"
     ]
    }
   ],
   "source": [
    "name=input(\"what is your name?\\n\")\n",
    "print(\"hello myself rhea, how are you\"+name + \"?\")\n",
    "print(\"i am doing great\"+  name + \"!\")\n",
    "age= input(\"what is your age?\\n\")\n",
    "print(\" oh okay we are of same age good to know\")\n"
   ]
  },
  {
   "cell_type": "code",
   "execution_count": null,
   "id": "bea3dea8",
   "metadata": {},
   "outputs": [],
   "source": []
  }
 ],
 "metadata": {
  "kernelspec": {
   "display_name": "Python 3 (ipykernel)",
   "language": "python",
   "name": "python3"
  },
  "language_info": {
   "codemirror_mode": {
    "name": "ipython",
    "version": 3
   },
   "file_extension": ".py",
   "mimetype": "text/x-python",
   "name": "python",
   "nbconvert_exporter": "python",
   "pygments_lexer": "ipython3",
   "version": "3.9.12"
  }
 },
 "nbformat": 4,
 "nbformat_minor": 5
}

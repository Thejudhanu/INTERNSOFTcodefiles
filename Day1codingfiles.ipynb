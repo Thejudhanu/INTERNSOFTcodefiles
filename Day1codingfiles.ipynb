{
 "cells": [
  {
   "cell_type": "code",
   "execution_count": 7,
   "id": "8ab86462",
   "metadata": {},
   "outputs": [
    {
     "name": "stdout",
     "output_type": "stream",
     "text": [
      "40\n",
      "<class 'int'>\n",
      "theju\n",
      "<class 'str'>\n",
      "8.7\n",
      "<class 'bool'>\n",
      "(10+50j)\n",
      "<class 'complex'>\n"
     ]
    },
    {
     "data": {
      "text/plain": [
       "(10.0, 50.0)"
      ]
     },
     "execution_count": 7,
     "metadata": {},
     "output_type": "execute_result"
    }
   ],
   "source": [
    "#integers\n",
    "x=40\n",
    "print(x)\n",
    "print(type(x))\n",
    "\n",
    "#strings\n",
    "y='theju'\n",
    "print(y)\n",
    "print(type(y))\n",
    "\n",
    "#float\n",
    "z=8.7\n",
    "print(z)\n",
    "type(z)\n",
    "\n",
    "#boolean\n",
    "a=True\n",
    "b=False\n",
    "print(type(a))\n",
    "b\n",
    "\n",
    "#complex numbers\n",
    "c=10+50j\n",
    "print(c)\n",
    "print(type(c))\n",
    "#to see real and imaginary part\n",
    "(c.real, c.imag)"
   ]
  },
  {
   "cell_type": "code",
   "execution_count": 9,
   "id": "17882e6b",
   "metadata": {},
   "outputs": [
    {
     "name": "stdout",
     "output_type": "stream",
     "text": [
      "hello\n",
      "hai\n"
     ]
    }
   ],
   "source": [
    "#dynamic typing: can have multiple variables with the same name\n",
    "\n",
    "theju='hello'\n",
    "print(theju)\n",
    "\n",
    "theju='hai'\n",
    "print(theju)\n",
    "\n"
   ]
  },
  {
   "cell_type": "code",
   "execution_count": 14,
   "id": "b7920db0",
   "metadata": {},
   "outputs": [
    {
     "name": "stdout",
     "output_type": "stream",
     "text": [
      "tues2\n",
      "4hello\n",
      "haihello\n",
      "3day\n"
     ]
    }
   ],
   "source": [
    "#strong typing: in order to concatenate string and integers\n",
    "print('tues'+str(2))\n",
    "print(str(4)+'hello')\n",
    "print('hai'+'hello')\n",
    "print('3'+'day')\n"
   ]
  },
  {
   "cell_type": "code",
   "execution_count": 16,
   "id": "f41561bc",
   "metadata": {},
   "outputs": [
    {
     "name": "stdout",
     "output_type": "stream",
     "text": [
      "True\n",
      "False\n",
      "False\n",
      "True\n",
      "True\n",
      "False\n",
      "False\n",
      "True\n",
      "True\n",
      "False\n",
      "True\n"
     ]
    }
   ],
   "source": [
    "#simple expressions\n",
    "print(True and True)\n",
    "print(True and False)\n",
    "print(False and False)\n",
    "print(True or True)\n",
    "print(True or False)\n",
    "print(False or False)\n",
    "print(not True)\n",
    "print(not False)\n",
    "print(True is True)\n",
    "print(True is False)\n",
    "print(False is False)\n",
    "#print('theju' is 'theju')\n",
    "#print('theju' is '1theju')\n",
    "#print('theju' is not '1theju')\n",
    "\n",
    "\n",
    "\n",
    "\n",
    "\n",
    "\n"
   ]
  },
  {
   "cell_type": "code",
   "execution_count": 19,
   "id": "4d8df4a8",
   "metadata": {},
   "outputs": [
    {
     "name": "stdout",
     "output_type": "stream",
     "text": [
      "t is lesser than 11\n",
      "t is greater than 11\n",
      "t is lesser than 11\n"
     ]
    }
   ],
   "source": [
    "#branching(if/elif/else)\n",
    "\n",
    "t=10\n",
    "if t<=11:\n",
    "    print(\"t is lesser than 11\")\n",
    "elif t>=11:\n",
    "    print(\"t is greater than 11\")\n",
    "else:\n",
    "    print(\"null\")\n",
    "    \n",
    "t=20\n",
    "if t<=11:\n",
    "    print(\"t is lesser than 11\")\n",
    "elif t>=11:\n",
    "    print(\"t is greater than 11\")\n",
    "else:\n",
    "    print(\"null\")\n",
    "    \n",
    "t=0\n",
    "if t<=11:\n",
    "    print(\"t is lesser than 11\")\n",
    "elif t>=11:\n",
    "    print(\"t is greater than 11\")\n",
    "else:\n",
    "    print(\"null\")\n",
    "        \n",
    "        \n",
    "    "
   ]
  },
  {
   "cell_type": "code",
   "execution_count": 26,
   "id": "2c96673c",
   "metadata": {},
   "outputs": [
    {
     "data": {
      "text/plain": [
       "['hai', 'rhea', 1, 2, 4, 'good']"
      ]
     },
     "execution_count": 26,
     "metadata": {},
     "output_type": "execute_result"
    }
   ],
   "source": [
    "#list\n",
    "list=['hai', 'rhea', 1, 2, 4, 'good']\n",
    "list"
   ]
  },
  {
   "cell_type": "code",
   "execution_count": 27,
   "id": "43d14a91",
   "metadata": {},
   "outputs": [
    {
     "data": {
      "text/plain": [
       "['hai', 'rhea', 1, 2, 4, 'good', 6]"
      ]
     },
     "execution_count": 27,
     "metadata": {},
     "output_type": "execute_result"
    }
   ],
   "source": [
    "list.append(6)\n",
    "list"
   ]
  },
  {
   "cell_type": "code",
   "execution_count": 28,
   "id": "d7dea67f",
   "metadata": {},
   "outputs": [
    {
     "data": {
      "text/plain": [
       "['hai', 'rhea', 1, 2, 'true', 4, 'good', 6]"
      ]
     },
     "execution_count": 28,
     "metadata": {},
     "output_type": "execute_result"
    }
   ],
   "source": [
    "list.insert(4, 'true')\n",
    "list"
   ]
  },
  {
   "cell_type": "code",
   "execution_count": 29,
   "id": "798ec1b2",
   "metadata": {},
   "outputs": [
    {
     "data": {
      "text/plain": [
       "['hai', 'rhea', 90, 1, 2, 'true', 4, 'good', 6]"
      ]
     },
     "execution_count": 29,
     "metadata": {},
     "output_type": "execute_result"
    }
   ],
   "source": [
    "list.insert(2, 90)\n",
    "list"
   ]
  },
  {
   "cell_type": "code",
   "execution_count": 30,
   "id": "0d0e6854",
   "metadata": {},
   "outputs": [
    {
     "name": "stdout",
     "output_type": "stream",
     "text": [
      "the value is: 27\n"
     ]
    }
   ],
   "source": [
    "#loops\n",
    "#for loop\n",
    "\n",
    "num=[2,3,4,5,6,7]\n",
    "value=0\n",
    "for i in num:\n",
    "    value=value+i\n",
    "print(\"the value is:\", value)"
   ]
  },
  {
   "cell_type": "code",
   "execution_count": 34,
   "id": "a804d445",
   "metadata": {},
   "outputs": [
    {
     "name": "stdout",
     "output_type": "stream",
     "text": [
      "my name\n",
      "my name\n",
      "my name\n",
      "my name\n",
      "my name\n"
     ]
    }
   ],
   "source": [
    "#for loop with else\n",
    "name='theju'\n",
    "for i in name:\n",
    "    if name=='theju':\n",
    "        print(\"my name\")\n",
    "    else:\n",
    "        print(\"not my name\")"
   ]
  },
  {
   "cell_type": "code",
   "execution_count": 38,
   "id": "1a6939fe",
   "metadata": {},
   "outputs": [
    {
     "name": "stdout",
     "output_type": "stream",
     "text": [
      "enter the number:6\n",
      "the sum is: 20\n"
     ]
    }
   ],
   "source": [
    "#while loop\n",
    "\n",
    "x=int(input(\"enter the number:\"))\n",
    "sum=0\n",
    "i=2\n",
    "while i<=x:\n",
    "    sum=sum+i\n",
    "    i=i+1\n",
    "print(\"the sum is:\", sum)    \n",
    "    \n"
   ]
  },
  {
   "cell_type": "code",
   "execution_count": 48,
   "id": "881991f6",
   "metadata": {},
   "outputs": [
    {
     "data": {
      "text/plain": [
       "range(0, 10)"
      ]
     },
     "execution_count": 48,
     "metadata": {},
     "output_type": "execute_result"
    }
   ],
   "source": [
    "#range()\n",
    "range(10)"
   ]
  },
  {
   "cell_type": "code",
   "execution_count": 56,
   "id": "a9a7b0e6",
   "metadata": {},
   "outputs": [
    {
     "name": "stdout",
     "output_type": "stream",
     "text": [
      "we have mon\n",
      "we have tues\n",
      "we have wednes\n"
     ]
    }
   ],
   "source": [
    "days=['mon', 'tues', 'wednes']\n",
    "for i in range(len(days)):\n",
    "    print(\"we have\", days[i])"
   ]
  },
  {
   "cell_type": "code",
   "execution_count": 72,
   "id": "422d6f9d",
   "metadata": {},
   "outputs": [
    {
     "name": "stdout",
     "output_type": "stream",
     "text": [
      "its done\n"
     ]
    }
   ],
   "source": [
    "#break and continue\n",
    "\n",
    "for i in \"DHANUSH\":\n",
    "    if i==\"S\":\n",
    "        break\n",
    "        print(val)\n",
    "print(\"its done\")        \n"
   ]
  },
  {
   "cell_type": "code",
   "execution_count": 74,
   "id": "0f60d72e",
   "metadata": {},
   "outputs": [
    {
     "name": "stdout",
     "output_type": "stream",
     "text": [
      "its done\n"
     ]
    }
   ],
   "source": [
    "for value in \"DHANUSH\":\n",
    "    if value==\"S\":\n",
    "        continue\n",
    "        print(val)\n",
    "print(\"its done\")        "
   ]
  },
  {
   "cell_type": "code",
   "execution_count": null,
   "id": "bab2accc",
   "metadata": {},
   "outputs": [],
   "source": [
    "name=input(\"what is your name?\\n\")\n"
   ]
  },
  {
   "cell_type": "code",
   "execution_count": null,
   "id": "596db66c",
   "metadata": {},
   "outputs": [],
   "source": [
    "print(hello)"
   ]
  },
  {
   "cell_type": "code",
   "execution_count": null,
   "id": "3374a653",
   "metadata": {},
   "outputs": [],
   "source": []
  }
 ],
 "metadata": {
  "kernelspec": {
   "display_name": "Python 3 (ipykernel)",
   "language": "python",
   "name": "python3"
  },
  "language_info": {
   "codemirror_mode": {
    "name": "ipython",
    "version": 3
   },
   "file_extension": ".py",
   "mimetype": "text/x-python",
   "name": "python",
   "nbconvert_exporter": "python",
   "pygments_lexer": "ipython3",
   "version": "3.9.12"
  }
 },
 "nbformat": 4,
 "nbformat_minor": 5
}

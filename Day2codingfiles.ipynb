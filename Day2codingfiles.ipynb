{
 "cells": [
  {
   "cell_type": "code",
   "execution_count": 2,
   "id": "0680fc81",
   "metadata": {},
   "outputs": [
    {
     "name": "stdout",
     "output_type": "stream",
     "text": [
      "hello, good morning\n",
      "This scenary is mesmarising\n",
      "I'm a computer science student\n"
     ]
    }
   ],
   "source": [
    "#single and double quotes\n",
    "x='hello, good morning'\n",
    "print(x)\n",
    "x1=\"This scenary is mesmarising\"\n",
    "print(x1)\n",
    "x2=\"I'm a computer science student\"\n",
    "print(x2)"
   ]
  },
  {
   "cell_type": "code",
   "execution_count": 3,
   "id": "ea14059e",
   "metadata": {},
   "outputs": [
    {
     "data": {
      "text/plain": [
       "30"
      ]
     },
     "execution_count": 3,
     "metadata": {},
     "output_type": "execute_result"
    }
   ],
   "source": [
    "len(x2)"
   ]
  },
  {
   "cell_type": "code",
   "execution_count": 6,
   "id": "9540bebf",
   "metadata": {},
   "outputs": [
    {
     "name": "stdout",
     "output_type": "stream",
     "text": [
      "l\n",
      "g\n",
      "n\n",
      "hell\n",
      "ello,\n",
      "hello, good morning\n",
      "hello, good mornin\n",
      "hello, good morni\n",
      "gninrom doog ,olleh\n",
      "hl \n",
      "lo o\n"
     ]
    }
   ],
   "source": [
    "#indexing and slicing\n",
    "xoxo='hello, good morning'\n",
    "xoxo\n",
    "print(xoxo[3])\n",
    "print(xoxo[-1])\n",
    "print(xoxo[-2])\n",
    "print(xoxo[0:4])\n",
    "print(xoxo[1:6])\n",
    "print(xoxo[:])\n",
    "print(xoxo[:-1])\n",
    "print(xoxo[:-2])\n",
    "print(xoxo[::-1])\n",
    "print(xoxo[0:7:3])\n",
    "print(xoxo[2:10:2])\n",
    "\n",
    "\n",
    "\n",
    "\n",
    "\n"
   ]
  },
  {
   "cell_type": "code",
   "execution_count": 15,
   "id": "f9def6e9",
   "metadata": {},
   "outputs": [
    {
     "data": {
      "text/plain": [
       "'goodmorning'"
      ]
     },
     "execution_count": 15,
     "metadata": {},
     "output_type": "execute_result"
    }
   ],
   "source": [
    "#concatenate\n",
    "y=\"good\"\n",
    "y + \"morning\"\n",
    "y=y + \"morning\"\n",
    "y"
   ]
  },
  {
   "cell_type": "code",
   "execution_count": 16,
   "id": "ee89dc44",
   "metadata": {},
   "outputs": [
    {
     "data": {
      "text/plain": [
       "'tttttttttttttttttttttttttttttttttttttttt'"
      ]
     },
     "execution_count": 16,
     "metadata": {},
     "output_type": "execute_result"
    }
   ],
   "source": [
    "#repetition\n",
    "hai='t'\n",
    "hai*40"
   ]
  },
  {
   "cell_type": "code",
   "execution_count": 22,
   "id": "3597520a",
   "metadata": {},
   "outputs": [
    {
     "name": "stdout",
     "output_type": "stream",
     "text": [
      "GOODMORNING\n",
      "goodmorning\n",
      "['goo', 'morning']\n",
      "['goodmor', 'i', 'g']\n"
     ]
    }
   ],
   "source": [
    "#methods\n",
    "print(y.upper())\n",
    "print(y.lower())\n",
    "print(y.split('d'))\n",
    "print(y.split('n'))"
   ]
  },
  {
   "cell_type": "code",
   "execution_count": 23,
   "id": "2eea4942",
   "metadata": {},
   "outputs": [
    {
     "data": {
      "text/plain": [
       "\"hello, good morning:{'this is theju'}\""
      ]
     },
     "execution_count": 23,
     "metadata": {},
     "output_type": "execute_result"
    }
   ],
   "source": [
    "#format()\n",
    "'hello, good morning:{}'.format({\"this is theju\"})"
   ]
  },
  {
   "cell_type": "code",
   "execution_count": 28,
   "id": "c63b9b36",
   "metadata": {},
   "outputs": [
    {
     "name": "stdout",
     "output_type": "stream",
     "text": [
      "2\n",
      "7\n",
      "eeeeeeeeeeeeeegoodmorningeeeeeeeeeeeeeee\n"
     ]
    }
   ],
   "source": [
    "#somewhere methods\n",
    "print(y.count('n'))\n",
    "print(y.find('n'))\n",
    "print(y.center(40,'e'))"
   ]
  },
  {
   "cell_type": "code",
   "execution_count": 46,
   "id": "70054052",
   "metadata": {},
   "outputs": [
    {
     "name": "stdout",
     "output_type": "stream",
     "text": [
      "hello, good morning\n",
      "False\n",
      "False\n",
      "True\n",
      "False\n",
      "False\n",
      "False\n",
      "True\n"
     ]
    }
   ],
   "source": [
    "#checking methods\n",
    "y='hello, good morning'\n",
    "print(y)\n",
    "print(y.isalnum())\n",
    "print(y.isalpha())\n",
    "print(y.islower())\n",
    "print(y.isupper())\n",
    "print(y.isspace())\n",
    "print(y.istitle())\n",
    "print(y.endswith('g'))"
   ]
  },
  {
   "cell_type": "code",
   "execution_count": 47,
   "id": "c63055a3",
   "metadata": {},
   "outputs": [
    {
     "data": {
      "text/plain": [
       "['hell', ', g', '', 'd m', 'rning']"
      ]
     },
     "execution_count": 47,
     "metadata": {},
     "output_type": "execute_result"
    }
   ],
   "source": [
    "y.split('o')"
   ]
  },
  {
   "cell_type": "code",
   "execution_count": 48,
   "id": "36f0b6bb",
   "metadata": {},
   "outputs": [
    {
     "data": {
      "text/plain": [
       "('h', 'e', 'llo, good morning')"
      ]
     },
     "execution_count": 48,
     "metadata": {},
     "output_type": "execute_result"
    }
   ],
   "source": [
    "y.partition('e')"
   ]
  },
  {
   "cell_type": "code",
   "execution_count": 49,
   "id": "d974ac08",
   "metadata": {},
   "outputs": [
    {
     "data": {
      "text/plain": [
       "'hello, good morning'"
      ]
     },
     "execution_count": 49,
     "metadata": {},
     "output_type": "execute_result"
    }
   ],
   "source": [
    "y"
   ]
  },
  {
   "cell_type": "code",
   "execution_count": 50,
   "id": "4547abbe",
   "metadata": {},
   "outputs": [
    {
     "data": {
      "text/plain": [
       "['hai', 'hello', 1, 2, 3, 6, 'theju']"
      ]
     },
     "execution_count": 50,
     "metadata": {},
     "output_type": "execute_result"
    }
   ],
   "source": [
    "#list\n",
    "list=['hai', 'hello', 1,2,3,6,'theju']\n",
    "list"
   ]
  },
  {
   "cell_type": "code",
   "execution_count": 51,
   "id": "22901287",
   "metadata": {},
   "outputs": [
    {
     "data": {
      "text/plain": [
       "7"
      ]
     },
     "execution_count": 51,
     "metadata": {},
     "output_type": "execute_result"
    }
   ],
   "source": [
    "len(list)"
   ]
  },
  {
   "cell_type": "code",
   "execution_count": 64,
   "id": "35d7defc",
   "metadata": {},
   "outputs": [
    {
     "name": "stdout",
     "output_type": "stream",
     "text": [
      "hai\n",
      "theju\n",
      "3\n",
      "['hai', 'hello', 1, 2, 3, 6, 'theju']\n",
      "['hai', 'hello', 1, 2, 3, 6]\n",
      "6\n",
      "['hai', 2]\n",
      "['hai', 'hello', 1, 2, 3]\n",
      "['theju', 6, 3, 2, 1, 'hello', 'hai']\n",
      "['theju', 2, 'hai']\n"
     ]
    }
   ],
   "source": [
    "#indexing and slicing\n",
    "print(list[0])\n",
    "print(list[-1])\n",
    "print(list[4])\n",
    "print(list[:])\n",
    "print(list[:-1])\n",
    "print(list[-2])\n",
    "print(list[:4:3])\n",
    "print(list[0:5])\n",
    "print(list[::-1])\n",
    "print(list[::-3])"
   ]
  },
  {
   "cell_type": "code",
   "execution_count": 76,
   "id": "b6e9ef0a",
   "metadata": {},
   "outputs": [
    {
     "name": "stdout",
     "output_type": "stream",
     "text": [
      "['mon', 'tues', 'wednes', 'thursday']\n",
      "['mon', 'tues', 'wednes', 'thursday', 'friday']\n"
     ]
    }
   ],
   "source": [
    "#assigning\n",
    "new=['mon', 'tues', 'wednes', 'thursday']\n",
    "print(new)\n",
    "new=new+['friday']\n",
    "print(new)"
   ]
  },
  {
   "cell_type": "code",
   "execution_count": 77,
   "id": "cdfb8e34",
   "metadata": {},
   "outputs": [
    {
     "data": {
      "text/plain": [
       "['mon',\n",
       " 'tues',\n",
       " 'wednes',\n",
       " 'thursday',\n",
       " 'friday',\n",
       " 'mon',\n",
       " 'tues',\n",
       " 'wednes',\n",
       " 'thursday',\n",
       " 'friday']"
      ]
     },
     "execution_count": 77,
     "metadata": {},
     "output_type": "execute_result"
    }
   ],
   "source": [
    "new*2"
   ]
  },
  {
   "cell_type": "code",
   "execution_count": 89,
   "id": "0da54244",
   "metadata": {},
   "outputs": [
    {
     "data": {
      "text/plain": [
       "['red', 'green', 'yellow', 'violet', 'indigo']"
      ]
     },
     "execution_count": 89,
     "metadata": {},
     "output_type": "execute_result"
    }
   ],
   "source": [
    "#list methods\n",
    "rainbow=['red', 'green', 'yellow', 'violet']\n",
    "rainbow.append('indigo')\n",
    "rainbow"
   ]
  },
  {
   "cell_type": "code",
   "execution_count": 90,
   "id": "90a8c6de",
   "metadata": {},
   "outputs": [
    {
     "data": {
      "text/plain": [
       "'yellow'"
      ]
     },
     "execution_count": 90,
     "metadata": {},
     "output_type": "execute_result"
    }
   ],
   "source": [
    "rainbow.pop(2)"
   ]
  },
  {
   "cell_type": "code",
   "execution_count": 94,
   "id": "62583556",
   "metadata": {},
   "outputs": [
    {
     "data": {
      "text/plain": [
       "'red'"
      ]
     },
     "execution_count": 94,
     "metadata": {},
     "output_type": "execute_result"
    }
   ],
   "source": [
    "popped=rainbow.pop()\n",
    "popped"
   ]
  },
  {
   "cell_type": "code",
   "execution_count": 118,
   "id": "f9b9db96",
   "metadata": {},
   "outputs": [
    {
     "data": {
      "text/plain": [
       "['a', 'b', 'f', 'e']"
      ]
     },
     "execution_count": 118,
     "metadata": {},
     "output_type": "execute_result"
    }
   ],
   "source": [
    "x=['a', 'b', 'f', 'e']\n",
    "x"
   ]
  },
  {
   "cell_type": "code",
   "execution_count": 119,
   "id": "711ea3fb",
   "metadata": {},
   "outputs": [],
   "source": [
    "x.reverse()"
   ]
  },
  {
   "cell_type": "code",
   "execution_count": 120,
   "id": "8f1da239",
   "metadata": {},
   "outputs": [
    {
     "data": {
      "text/plain": [
       "['e', 'f', 'b', 'a']"
      ]
     },
     "execution_count": 120,
     "metadata": {},
     "output_type": "execute_result"
    }
   ],
   "source": [
    "x"
   ]
  },
  {
   "cell_type": "code",
   "execution_count": 121,
   "id": "3fd5a22b",
   "metadata": {},
   "outputs": [],
   "source": [
    "x.sort()"
   ]
  },
  {
   "cell_type": "code",
   "execution_count": 122,
   "id": "1cf07962",
   "metadata": {},
   "outputs": [
    {
     "data": {
      "text/plain": [
       "['a', 'b', 'e', 'f']"
      ]
     },
     "execution_count": 122,
     "metadata": {},
     "output_type": "execute_result"
    }
   ],
   "source": [
    "x"
   ]
  },
  {
   "cell_type": "code",
   "execution_count": 125,
   "id": "f9368db7",
   "metadata": {},
   "outputs": [],
   "source": [
    "#nesting files\n",
    "alpha=[1,2,3]\n",
    "beta=[3,4,5]\n",
    "gamma=[6,7,8]\n",
    "atom=[alpha, beta, gamma]\n"
   ]
  },
  {
   "cell_type": "code",
   "execution_count": 126,
   "id": "0ee07a2a",
   "metadata": {},
   "outputs": [
    {
     "data": {
      "text/plain": [
       "[[1, 2, 3], [3, 4, 5], [6, 7, 8]]"
      ]
     },
     "execution_count": 126,
     "metadata": {},
     "output_type": "execute_result"
    }
   ],
   "source": [
    "atom"
   ]
  },
  {
   "cell_type": "code",
   "execution_count": 127,
   "id": "ea9871f0",
   "metadata": {},
   "outputs": [
    {
     "data": {
      "text/plain": [
       "8"
      ]
     },
     "execution_count": 127,
     "metadata": {},
     "output_type": "execute_result"
    }
   ],
   "source": [
    "atom[2][2]"
   ]
  },
  {
   "cell_type": "code",
   "execution_count": 129,
   "id": "b0b367a3",
   "metadata": {},
   "outputs": [
    {
     "data": {
      "text/plain": [
       "2"
      ]
     },
     "execution_count": 129,
     "metadata": {},
     "output_type": "execute_result"
    }
   ],
   "source": [
    "atom[0][1]"
   ]
  },
  {
   "cell_type": "code",
   "execution_count": 132,
   "id": "89e36526",
   "metadata": {},
   "outputs": [],
   "source": [
    "#advanced lists\n",
    "atoms=['alpha', 'beta', 'gamma']"
   ]
  },
  {
   "cell_type": "code",
   "execution_count": 135,
   "id": "acfe7eec",
   "metadata": {},
   "outputs": [
    {
     "data": {
      "text/plain": [
       "['alpha', 'beta', 'gamma']"
      ]
     },
     "execution_count": 135,
     "metadata": {},
     "output_type": "execute_result"
    }
   ],
   "source": [
    "atoms"
   ]
  },
  {
   "cell_type": "code",
   "execution_count": 136,
   "id": "f1ed3956",
   "metadata": {},
   "outputs": [],
   "source": [
    "atoms.append('nuclear')"
   ]
  },
  {
   "cell_type": "code",
   "execution_count": 138,
   "id": "75e27ce8",
   "metadata": {},
   "outputs": [
    {
     "data": {
      "text/plain": [
       "['alpha', 'beta', 'gamma', 'nuclear']"
      ]
     },
     "execution_count": 138,
     "metadata": {},
     "output_type": "execute_result"
    }
   ],
   "source": [
    "atoms"
   ]
  },
  {
   "cell_type": "code",
   "execution_count": 139,
   "id": "aa12f930",
   "metadata": {},
   "outputs": [
    {
     "data": {
      "text/plain": [
       "1"
      ]
     },
     "execution_count": 139,
     "metadata": {},
     "output_type": "execute_result"
    }
   ],
   "source": [
    "atoms.count('beta')"
   ]
  },
  {
   "cell_type": "code",
   "execution_count": 141,
   "id": "05f6576d",
   "metadata": {},
   "outputs": [],
   "source": [
    "atoms.extend('a')"
   ]
  },
  {
   "cell_type": "code",
   "execution_count": 142,
   "id": "97d11fb4",
   "metadata": {},
   "outputs": [
    {
     "data": {
      "text/plain": [
       "['alpha', 'beta', 'gamma', 'nuclear', 'a']"
      ]
     },
     "execution_count": 142,
     "metadata": {},
     "output_type": "execute_result"
    }
   ],
   "source": [
    "atoms"
   ]
  },
  {
   "cell_type": "code",
   "execution_count": 143,
   "id": "eba4a415",
   "metadata": {},
   "outputs": [
    {
     "data": {
      "text/plain": [
       "2"
      ]
     },
     "execution_count": 143,
     "metadata": {},
     "output_type": "execute_result"
    }
   ],
   "source": [
    "atoms.index('gamma')"
   ]
  },
  {
   "cell_type": "code",
   "execution_count": 150,
   "id": "6c514e27",
   "metadata": {},
   "outputs": [
    {
     "data": {
      "text/plain": [
       "[1, 2, 3, 4]"
      ]
     },
     "execution_count": 150,
     "metadata": {},
     "output_type": "execute_result"
    }
   ],
   "source": [
    "my_list=[1,2,3,4]\n",
    "my_list"
   ]
  },
  {
   "cell_type": "code",
   "execution_count": 151,
   "id": "7c715adb",
   "metadata": {},
   "outputs": [
    {
     "data": {
      "text/plain": [
       "[1, 2, 'hello', 3, 4]"
      ]
     },
     "execution_count": 151,
     "metadata": {},
     "output_type": "execute_result"
    }
   ],
   "source": [
    "my_list.insert(2,'hello')\n",
    "my_list"
   ]
  },
  {
   "cell_type": "code",
   "execution_count": 153,
   "id": "60f2d348",
   "metadata": {},
   "outputs": [
    {
     "data": {
      "text/plain": [
       "3"
      ]
     },
     "execution_count": 153,
     "metadata": {},
     "output_type": "execute_result"
    }
   ],
   "source": [
    "my_list.pop(3)"
   ]
  },
  {
   "cell_type": "code",
   "execution_count": 156,
   "id": "b536ac33",
   "metadata": {},
   "outputs": [
    {
     "data": {
      "text/plain": [
       "2"
      ]
     },
     "execution_count": 156,
     "metadata": {},
     "output_type": "execute_result"
    }
   ],
   "source": [
    "popped=my_list.pop()\n",
    "popped"
   ]
  },
  {
   "cell_type": "code",
   "execution_count": 160,
   "id": "1ff6e147",
   "metadata": {},
   "outputs": [
    {
     "data": {
      "text/plain": [
       "[3, 4, 5, 6]"
      ]
     },
     "execution_count": 160,
     "metadata": {},
     "output_type": "execute_result"
    }
   ],
   "source": [
    "newone=[3,4,5,6]\n",
    "newone"
   ]
  },
  {
   "cell_type": "code",
   "execution_count": 161,
   "id": "49c8c4f9",
   "metadata": {},
   "outputs": [],
   "source": [
    "newone.remove(6)"
   ]
  },
  {
   "cell_type": "code",
   "execution_count": 162,
   "id": "66f9ab3a",
   "metadata": {},
   "outputs": [
    {
     "data": {
      "text/plain": [
       "[3, 4, 5]"
      ]
     },
     "execution_count": 162,
     "metadata": {},
     "output_type": "execute_result"
    }
   ],
   "source": [
    "newone"
   ]
  },
  {
   "cell_type": "code",
   "execution_count": 163,
   "id": "99f4b90b",
   "metadata": {},
   "outputs": [],
   "source": [
    "newone.reverse()"
   ]
  },
  {
   "cell_type": "code",
   "execution_count": 164,
   "id": "e7e2eaac",
   "metadata": {},
   "outputs": [
    {
     "data": {
      "text/plain": [
       "[5, 4, 3]"
      ]
     },
     "execution_count": 164,
     "metadata": {},
     "output_type": "execute_result"
    }
   ],
   "source": [
    "newone"
   ]
  },
  {
   "cell_type": "code",
   "execution_count": 165,
   "id": "e493dce0",
   "metadata": {},
   "outputs": [],
   "source": [
    "newone.sort()"
   ]
  },
  {
   "cell_type": "code",
   "execution_count": 166,
   "id": "347bae78",
   "metadata": {},
   "outputs": [
    {
     "data": {
      "text/plain": [
       "[3, 4, 5]"
      ]
     },
     "execution_count": 166,
     "metadata": {},
     "output_type": "execute_result"
    }
   ],
   "source": [
    "newone"
   ]
  },
  {
   "cell_type": "code",
   "execution_count": null,
   "id": "04d2bf53",
   "metadata": {},
   "outputs": [],
   "source": []
  }
 ],
 "metadata": {
  "kernelspec": {
   "display_name": "Python 3 (ipykernel)",
   "language": "python",
   "name": "python3"
  },
  "language_info": {
   "codemirror_mode": {
    "name": "ipython",
    "version": 3
   },
   "file_extension": ".py",
   "mimetype": "text/x-python",
   "name": "python",
   "nbconvert_exporter": "python",
   "pygments_lexer": "ipython3",
   "version": "3.9.12"
  }
 },
 "nbformat": 4,
 "nbformat_minor": 5
}
